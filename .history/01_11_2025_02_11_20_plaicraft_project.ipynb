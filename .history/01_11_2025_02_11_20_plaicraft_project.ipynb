{
 "cells": [
  {
   "cell_type": "markdown",
   "id": "4097c7b9-6111-4b54-809b-e4d0e590ff3e",
   "metadata": {},
   "source": [
    "# PlaiCraft DSCI 100 Individual Planning\n",
    "\n",
    "In this individual planning, I will be analyzing and visualizing data submitted by Frank Wood's Computer Science research group to prepare for the group aspect of the project where we will answer an agreed upon predictive question. First, I will be loading in the tidyverse, ggplot2, and lubridate R packages to use for later."
   ]
  },
  {
   "cell_type": "code",
   "execution_count": null,
   "id": "2c655e07-af5e-4a4c-8d82-a5e1a1c8e004",
   "metadata": {},
   "outputs": [],
   "source": [
    "library(tidyverse)\n",
    "library(ggplot2)\n",
    "library(lubridate)\n",
    "set.seed(9999)"
   ]
  },
  {
   "cell_type": "markdown",
   "id": "f8c5157d-a18b-4957-8641-8a2ed8b7b0dc",
   "metadata": {},
   "source": [
    "### 1. Inspecting the Datasets and Summaries"
   ]
  },
  {
   "cell_type": "markdown",
   "id": "0918b3cf-0005-45b1-a79e-566e0f681309",
   "metadata": {},
   "source": [
    "Firstly, let's read in the two datasets and inspect what data we have to work with."
   ]
  },
  {
   "cell_type": "code",
   "execution_count": null,
   "id": "d7f8f434-d21b-4454-8176-2f1c8672e66f",
   "metadata": {},
   "outputs": [],
   "source": [
    "players_data <- read_csv(\"data/players.csv\")\n",
    "players_data"
   ]
  },
  {
   "cell_type": "markdown",
   "id": "857a9006-ace1-4661-87c9-d1ed3f19d8d4",
   "metadata": {},
   "source": [
    "#### Description of the set:"
   ]
  },
  {
   "cell_type": "markdown",
   "id": "13245473-8595-4e7b-9627-8bbad6cbd867",
   "metadata": {},
   "source": [
    "The data in the \"players.csv\" file provided for PlaiCraft has 7 variables and 196 observations as listed at the top of the data table (196x7). The variables, their data type, and description of what they represent are listed below:\n",
    "1. `experience`: *chr (character)* - determines the \"level\" of the players' gaming experience as a Beginner, Amateur, Veteran, or Pro (the most experienced)\n",
    "2. `subscribe`: *lgl (logical)* - indicated with TRUE for \"yes\" or FALSE for \"no\", determining whether or not the player is subscribed to PlaiCraft\n",
    "3. `hashedEmail`: *chr (character)* - email address of player, but in hashed form with a sequence of letters and numbers\n",
    "4. `played_hours`: *dbl (decimal)* - how many hours the player played PlaiCraft for\n",
    "5. `name`: *chr (character)* - first name of player\n",
    "6. `gender`: *chr (character)* - gender of player\n",
    "7. `age`: *dbl (decimal)* - age of player\n",
    "\n",
    "\n",
    "One issue seen is that it is unclear over how many days this report has been collecting the data for. There is no indication nor metadata for how long these hours were collected for. I also see another issue with the subscribe column. I assume this column is based on subscription of the game, as in who signed their email up for to play PlaiCraft and who is playing as a guest. However, it is unclear whether this is the case or not or if the subscription is for another thing related to the game."
   ]
  },
  {
   "cell_type": "markdown",
   "id": "c5c73d9d-0e3e-4d05-b608-cc1ea1453aff",
   "metadata": {},
   "source": [
    "Before moving onto the next datset, let's summarize the columns to get a better understanding of the data."
   ]
  },
  {
   "cell_type": "markdown",
   "id": "fe6730d5-ece4-4166-abdd-2217189d616e",
   "metadata": {},
   "source": [
    "#### Summary #1"
   ]
  },
  {
   "cell_type": "code",
   "execution_count": null,
   "id": "0256dab7-6ac4-4bd3-8112-8e984e160ba6",
   "metadata": {},
   "outputs": [],
   "source": [
    "experience_count <- players_data |>\n",
    "                        group_by(experience) |>\n",
    "                        summarize(count = n())\n",
    "\n",
    "experience_summary <- experience_count |>\n",
    "                        ungroup() |>\n",
    "                        mutate(percent = count/sum(count) * 100) |>\n",
    "                        mutate(percent = round(percent, 2))\n",
    "experience_summary"
   ]
  },
  {
   "cell_type": "markdown",
   "id": "1830c892-5da0-4ede-a4b5-f410bfa53d53",
   "metadata": {},
   "source": [
    "The largest portion of players who contributed to the data are labelled as amateurs in terms of experience and make up 32.14%. The lowest portion is pros, making up 7.14%."
   ]
  },
  {
   "cell_type": "markdown",
   "id": "5c9470a3-257f-414d-8b11-96c1ff5c68f2",
   "metadata": {},
   "source": [
    "#### Summary #2"
   ]
  },
  {
   "cell_type": "code",
   "execution_count": null,
   "id": "9843e00d-46cc-45cb-b281-70cf1056a24b",
   "metadata": {},
   "outputs": [],
   "source": [
    "played_hours_summary <- players_data |>\n",
    "                            summarize(mean = mean(played_hours, na.rm = TRUE),\n",
    "                                      median = median(played_hours, na.rm = TRUE),\n",
    "                                      sum = sum(played_hours, na.rm = TRUE),\n",
    "                                      max = max(played_hours),\n",
    "                                      min = min(played_hours)) |>\n",
    "                            mutate(across(mean:min, ~ round(.x, 2)))    \n",
    "played_hours_summary                      "
   ]
  },
  {
   "cell_type": "markdown",
   "id": "e0f6ebaf-6090-42c3-ab34-327bfe46d0a9",
   "metadata": {},
   "source": [
    "The mean amount of hours played is 5.85 hours, the median is 0.1 hours, the sum is 1145.80 hours, the maximum is 223.10 hours and the minimum is 0 hours."
   ]
  },
  {
   "cell_type": "markdown",
   "id": "9d58fd5a-14ec-460b-9030-9411b371b701",
   "metadata": {},
   "source": [
    "#### Summary #3"
   ]
  },
  {
   "cell_type": "code",
   "execution_count": null,
   "id": "ea5b07d1-18e4-498d-b62e-8c62fa8fb262",
   "metadata": {},
   "outputs": [],
   "source": [
    "subscribe_count <- players_data |>\n",
    "                        group_by(subscribe) |>\n",
    "                        summarize(count = n())\n",
    "\n",
    "subscribe_summary <- subscribe_count |>\n",
    "                        ungroup() |>\n",
    "                        mutate(percent = count/sum(count) * 100) |>\n",
    "                        mutate(percent = round(percent, 2))\n",
    "subscribe_summary"
   ]
  },
  {
   "cell_type": "markdown",
   "id": "05a991c6-fd19-447c-abb8-d2d414982d99",
   "metadata": {},
   "source": [
    "There's 144 subscribed players which accounts for 73.47%, and 52 non subscribed players which accounts for 26.53% in the dataset."
   ]
  },
  {
   "cell_type": "markdown",
   "id": "ef1e3451-cee6-44d1-a958-ec1a0b9f7f51",
   "metadata": {},
   "source": [
    "#### Summary #4"
   ]
  },
  {
   "cell_type": "code",
   "execution_count": null,
   "id": "9abc9105-3fdf-453a-9187-36d5de58900f",
   "metadata": {},
   "outputs": [],
   "source": [
    "gender_count <- players_data |>\n",
    "                    group_by(gender) |>\n",
    "                    summarize(count = n())\n",
    "\n",
    "gender_summary <- gender_count |>\n",
    "                        ungroup() |>\n",
    "                        mutate(percent = count/sum(count) * 100) |>\n",
    "                        mutate(percent = round(percent, 2))\n",
    "gender_summary"
   ]
  },
  {
   "cell_type": "markdown",
   "id": "83579189-9ce4-46d6-95ad-37ee0bf850d2",
   "metadata": {},
   "source": [
    "The largest portion of the dataset is male making up 63.27%, and the smallest is other making up 0.51%."
   ]
  },
  {
   "cell_type": "markdown",
   "id": "85c3cd20-0a2e-4db5-a965-c5a371477207",
   "metadata": {},
   "source": [
    "#### Summary #5"
   ]
  },
  {
   "cell_type": "code",
   "execution_count": null,
   "id": "2bcc4f21-8d93-4f2c-a531-1110ce5b346b",
   "metadata": {},
   "outputs": [],
   "source": [
    "age_summary <- players_data |>\n",
    "                    summarize(mean = mean(Age, na.rm = TRUE),\n",
    "                              median = median(Age, na.rm = TRUE),\n",
    "                              max = max(Age, na.rm = TRUE),\n",
    "                              min = min(Age, na.rm = TRUE)) |>\n",
    "                    mutate(across(mean:min, ~ round(.x, 2)))    \n",
    "age_summary   "
   ]
  },
  {
   "cell_type": "markdown",
   "id": "6c9a1f8d-7a2e-47ca-b1a3-5dfc1092891a",
   "metadata": {},
   "source": [
    "The mean age of Plaicraft players in the dataset is 21.14 years, the median is 19 years, the oldest age (max) is 58 years and the youngest age is 9 years old."
   ]
  },
  {
   "cell_type": "markdown",
   "id": "c44401f9-a9de-4dce-8653-abd693734dcc",
   "metadata": {},
   "source": [
    "Now let's read in the next dataset:"
   ]
  },
  {
   "cell_type": "code",
   "execution_count": null,
   "id": "77623475-f496-4442-8b03-f7611fe35992",
   "metadata": {},
   "outputs": [],
   "source": [
    "sessions_data <- read_csv(\"data/sessions.csv\")\n",
    "sessions_data"
   ]
  },
  {
   "cell_type": "markdown",
   "id": "ca2159c3-2d9b-481e-bee6-5ba1587a2f3b",
   "metadata": {},
   "source": [
    "#### Description of the set:\n",
    "The data in the \"sessions.csv\" file provided for PlaiCraft has 5 variables and 1535 observations as indicated by the top of the data table (1535x5). The variables, their data type, and description of what they represent are listed below: \n",
    "1. `hashedEmail`: *chr (character)* - the players' email, but in hashed form\n",
    "2. `start_time`: *chr (character)* - start time of players' gametime session in \"mm/dd/yyyy\" and \"time (in 24 hour interval)\"\n",
    "4. `end_time`: *chr (character)* - end time of players' gametime session in \"mm/dd/yyyy\" and \"time (in 24 hour interval)\"\n",
    "5. `original_start_time`: *dbl (decimal)* - players' start time in UNIX format (milliseconds)\n",
    "6. `original_end_time`: *dbl (decimal)* - players' end time in UNIX format (milliseconds)\n",
    "\n",
    "\n",
    "One issue seen in the data is the formatting of the start_time, end_time, original_start_time, and original_end_time columns. There is more than one value in the start_time and end_time which is not favourable as a tidy dataset and for applying functions to the dataset later. The original_start_time and original_end_time columns are also in an uncommonly used format and difficult to interpet.\n",
    "\\\n",
    "\\\n",
    "Before we summarize the data, I will wrangle this dataset to become tidy so that we can make the most out of it. Tidy data follows the format of one variable per column, one observation per row, and one value in each cell. Let's tidy up the \"sessions.csv\". The \"players.csv\" follows the tidy rules, so we don't have to tidy it. I will transform the start_time and end_time columns to be a decimal type instead of character. I will also add an extra column for the start_time in hours as integers for later analysis. All of this pre wrangling will make summarizing and the creation of visualizations later more efficient."
   ]
  },
  {
   "cell_type": "code",
   "execution_count": null,
   "id": "779f6243-10eb-450b-9f7a-75c41316c637",
   "metadata": {},
   "outputs": [],
   "source": [
    "sessions_data_tidy <- sessions_data |>\n",
    "                      separate(end_time, \n",
    "                                into = c(\"date\", \"end_time\"),\n",
    "                                sep = \" \") |>\n",
    "                      separate(start_time,\n",
    "                                into = c(\"date\", \"start_time\"),\n",
    "                                sep = \" \") |>\n",
    "                       mutate(start_time = as.numeric(hm(start_time))/3600) |> #hm function is from the lubridate R package and extracts the time in seconds\n",
    "                       mutate(end_time = as.numeric(hm(end_time))/3600) |> #we devide it by 3600 to get the time in hours\n",
    "                       mutate(start_time_hr = as.integer(start_time))\n",
    "sessions_data_tidy"
   ]
  },
  {
   "cell_type": "markdown",
   "id": "2b541963-75e4-4347-ad37-845590e8a628",
   "metadata": {},
   "source": [
    "#### Summary #6"
   ]
  },
  {
   "cell_type": "code",
   "execution_count": null,
   "id": "617ec4c4-dcc5-41aa-b07e-364189128826",
   "metadata": {},
   "outputs": [],
   "source": [
    "date_total <- sessions_data_tidy |>\n",
    "                    group_by(date) |>\n",
    "                    summarize(count = n())\n",
    "\n",
    "date_summary <- date_total |>\n",
    "                    arrange(desc(count)) |>\n",
    "                    slice_max(count) |>\n",
    "                    slice_min(count)\n",
    "                    \n",
    "date_summary"
   ]
  },
  {
   "cell_type": "markdown",
   "id": "a812f01e-1164-4743-a44c-e584fd2c957f",
   "metadata": {},
   "source": [
    "#### Summary #7"
   ]
  },
  {
   "cell_type": "code",
   "execution_count": null,
   "id": "a4e8eec8-154c-4f94-bf94-426a2ba5a31c",
   "metadata": {},
   "outputs": [],
   "source": [
    "start_time_summary <- sessions_data_tidy |>\n",
    "                            summarize(mean = mean(start_time, na.rm = TRUE),\n",
    "                                      median = median(start_time, na.rm = TRUE),\n",
    "                                      max = max(start_time, na.rm = TRUE),\n",
    "                                      min = min(start_time, na.rm = TRUE)) |>\n",
    "                            mutate(across(mean:min, ~ round(.x, 2)))\n",
    "start_time_summary"
   ]
  },
  {
   "cell_type": "markdown",
   "id": "e19ef5c8-46f4-405d-bdb7-ce37d51d483f",
   "metadata": {},
   "source": [
    "The mean start time is 10.69, corresponding to 10:41am and the median start time is 6.53, corresponding to 6:31am. The latest start time (max) is 23.98, corresponding to 11:58pm and the earliest start time (min) is 0, corresponding to 12:00am."
   ]
  },
  {
   "cell_type": "code",
   "execution_count": null,
   "id": "122db614-9659-425f-9ac7-5247700d4bff",
   "metadata": {},
   "outputs": [],
   "source": [
    "end_time_summary <- sessions_data_tidy |>\n",
    "                            summarize(mean = mean(end_time, na.rm = TRUE),\n",
    "                                      median = median(end_time, na.rm = TRUE),\n",
    "                                      max = max(end_time, na.rm = TRUE),\n",
    "                                      min = min(end_time, na.rm = TRUE)) |>\n",
    "                            mutate(across(mean:min, ~ round(.x, 2)))\n",
    "end_time_summary"
   ]
  },
  {
   "cell_type": "markdown",
   "id": "04433f12-d144-4ab2-98ab-44ace7bd41f0",
   "metadata": {},
   "source": [
    "The mean end time is 10.09, corresponding to 10:05am and the median end time is 6.25, corresponding to 6:15am. The latest end time (max) is 23.98, corresponding to 11:58pm and the earliest end time (min) is 0, corresponding to 12:00am."
   ]
  },
  {
   "cell_type": "markdown",
   "id": "01891048-4142-4c2b-a0f6-e1d9a610eddb",
   "metadata": {},
   "source": [
    "### 2. The Question\n",
    "Now that we have taken a view at our data. Let's state the question.\n",
    "\n",
    "The broad question I will be addressing for this planning is question #3: \"We are interested in demand forecasting, namely, what time windows are most likely to have large number of simultaneous players. This is because we need to ensure that the number of licenses on hand is sufficiently large to accommodate all parallel players with high probability.\" \n",
    "\n",
    "With this, the specific predictive question I formulated is: \n",
    "##### Can players' Plaicraft session start time predict how many simultaneous players will be online so that we can determine if we have enough licenses to go out at any time of the day?\n",
    "\n",
    "The data provided will help me address the question of interest in that I can mutate the time values in the \"start_time\" column of the sessions.csv dataset into a numerical (decimal) data type and in intervals of for example, 15 minutes, and summarize the data to make a column based on how many players were playing at those intervals. I will then do the necessary training and validation of the data to create an optimal knn non-linear regression model. This "
   ]
  },
  {
   "cell_type": "markdown",
   "id": "a6a158c1-7d6f-434c-a4ef-bef9cd3417d0",
   "metadata": {},
   "source": [
    "### 3. Exploratory Data Analysis and Visualization\n"
   ]
  },
  {
   "cell_type": "markdown",
   "id": "76c4d9b7-8690-46b0-8ea9-b96a97c1cf5e",
   "metadata": {},
   "source": [
    "Next, let's create some exploratory visualizations to understand the data more and possibly seek out any helpful relationships. Visualizations make it much easier to interpret datasets and make large datasets into concise figures."
   ]
  },
  {
   "cell_type": "markdown",
   "id": "1661651b-945d-4c76-ba55-194b88ca9fbb",
   "metadata": {},
   "source": [
    "#### Visualization #1"
   ]
  },
  {
   "cell_type": "code",
   "execution_count": null,
   "id": "4e9617df-8073-4fc9-a9b3-1df5b0e21ad8",
   "metadata": {},
   "outputs": [],
   "source": [
    "options(repr.plot.width = 11, repr.plot.height = 9)\n",
    "played_hours_age_plot <- ggplot(players_data, aes(x = Age, y = played_hours + 1)) + #add +1 so that when we log our y axis, the 0 values won't be infinity\n",
    "                            geom_point(alpha = 0.5) +\n",
    "                            labs(x = \"Age (Years)\", y = \"Hours of PlaiCraft Played (Scaled)\") +\n",
    "                            ggtitle(\"The Effect of Age on Hours Played of PlaiCraft Players\") +\n",
    "                            scale_y_log10() +\n",
    "                            theme(text = element_text(size = 12))\n",
    "played_hours_age_plot"
   ]
  },
  {
   "cell_type": "markdown",
   "id": "b0496d06-34b3-4419-8a34-e5a110a48758",
   "metadata": {},
   "source": [
    "In this visualization, there doesn't seem to be any relationship between the age of the players and the hours of PlaiCraft played. The points are pretty condensed near the bottom of the graph, with some outliers near the top half. The graph does seem to insinuate that teens and young adults tend to play for a greater amount of hours, specifically ages of around 18 - 20 years old. This is not only seen by the outliers, but nearby the condensed area as well."
   ]
  },
  {
   "cell_type": "markdown",
   "id": "b3beb580-0e9e-44ee-b672-b9a96b77206b",
   "metadata": {},
   "source": [
    "#### Visualization #2"
   ]
  },
  {
   "cell_type": "code",
   "execution_count": null,
   "id": "f3181ffb-e500-4886-a571-0e86a018f25c",
   "metadata": {},
   "outputs": [],
   "source": [
    "options(repr.plot.width = 16, repr.plot.height = 6)\n",
    "players_experience_age <- group_by(players_data, Age) |>\n",
    "                            summarize(count = n())\n",
    "\n",
    "experience_age_histogram <- ggplot(players_experience_age, aes(x = Age, y = count)) +\n",
    "    geom_histogram(bins = 20) +\n",
    "    facet_grid(rows = vars(experience)) +\n",
    "    labs(x = \"Total Sessions Played\", y = \"Total Players\", fill = \"Are They Subscribed?\") +\n",
    "    ggtitle(\"Subscription of Players Based on Age\") +\n",
    "    theme(text = element_text(size = 15))\n",
    "\n",
    "experience_hours_histogram"
   ]
  },
  {
   "cell_type": "markdown",
   "id": "5d1ad31a-dae1-4c8d-8555-f372b8747201",
   "metadata": {},
   "source": [
    "#### Visualization #2"
   ]
  },
  {
   "cell_type": "code",
   "execution_count": null,
   "id": "e56f3739-ec36-4531-b539-42f2bf2d51d8",
   "metadata": {},
   "outputs": [],
   "source": [
    "options(repr.plot.width = 9, repr.plot.height = 6)\n",
    "age_histogram <- ggplot(players_data, aes(x = Age)) +\n",
    "                    geom_histogram(bins = 20) +\n",
    "                    labs(x = \"Age (Years)\", y = \"Count\") +\n",
    "                    ggtitle(\"Distribution of PlaiCraft's Players' Ages\") +\n",
    "                    scale_x_continuous(breaks = c(0, 5, 10, 15, 20, 25, 30, 35, 40, 45, 50, 55, 60, 65, 70, 75)) +\n",
    "                    theme(text = element_text(size = 15))\n",
    "age_histogram"
   ]
  },
  {
   "cell_type": "markdown",
   "id": "d437d796-f6d0-4725-b1c4-dc7e3d9f126d",
   "metadata": {},
   "source": [
    "In this visualization, we can see that the highest number of PlaiCraft players in the dataset are approximately 16 years old. A lot of the players' ages are condensed around the teenager to young adult ages of 16 - 25. There are however, a few beyond this at the young children, adult and senior ages."
   ]
  },
  {
   "cell_type": "markdown",
   "id": "26c9cd63-d084-4f98-a287-c02b20abfa06",
   "metadata": {},
   "source": [
    "#### Visualization #4"
   ]
  },
  {
   "cell_type": "code",
   "execution_count": null,
   "id": "0242aceb-35cf-4577-b515-a81daa104fb0",
   "metadata": {},
   "outputs": [],
   "source": [
    "options(repr.plot.width = 15, repr.plot.height = 6)\n",
    "start_time_players_total <- group_by(sessions_data_tidy, start_time_hr) |>\n",
    "                                summarize(total_players = n())\n",
    "\n",
    "start_time_players_line <- ggplot(start_time_players_total, aes(x = start_time_hr, y = total_players)) +\n",
    "                                geom_line(alpha= 0.6) +\n",
    "                                scale_x_continuous(breaks = seq(0, 24)) +\n",
    "                                labs(x = \"Hour of Day\", y = \"Total Players Online\") +\n",
    "                                ggtitle(\"Total Players Online at Each Hour of the Day\") +\n",
    "                                theme(text = element_text(size = 15))\n",
    "start_time_players_line"
   ]
  },
  {
   "cell_type": "markdown",
   "id": "c3b5b076-47ef-4250-a819-f6068fd1ff1e",
   "metadata": {},
   "source": [
    "This visualization is the most helpful for our specific question. It is just a rough estimate of how many players are online at a certain hour as I converted the time of day values to integers. So, it may not be the exact amount of players, but it should be relatively close. We can see that from 2 - 5am, there are the most number of players online on PlaiCraft. The number of players online is the lowest between 8am-2pm, and increases again from 3pm to the end of the day. I can connect these observations to the visualization above in that I can assume that young adults are most likely in class or working. It makes sense why visualization #2 increases from 3pm to the end of the day all the way to 5am the next day because a lot of workers and students who are young adults get their free time late at night."
   ]
  },
  {
   "cell_type": "markdown",
   "id": "541cc7e3-1d9a-4bb8-b7bc-905a95a707ba",
   "metadata": {},
   "source": [
    "#### Visualization #5"
   ]
  },
  {
   "cell_type": "markdown",
   "id": "b4488cca-fce8-42ea-b7c5-2cbf0e414e8c",
   "metadata": {},
   "source": [
    "The following graphs provide information that is not as important for my specific question, but it is worth while to create these visualizations to further understand and explore both datasets as a whole. It may be needed for when I come together with my group as well."
   ]
  },
  {
   "cell_type": "code",
   "execution_count": null,
   "id": "448aa267-6c5d-4723-b4cc-4eca60744b06",
   "metadata": {},
   "outputs": [],
   "source": [
    "options(repr.plot.width = 8, repr.plot.height = 6)\n",
    "gender_data <- players_data |>\n",
    "                group_by(gender) |>\n",
    "                summarize(total_gender = n())\n",
    "gender_bar <- ggplot(gender_data, aes(x = gender, y = total_gender)) +\n",
    "                geom_bar(stat = \"identity\") +\n",
    "                labs(x = \"Gender\", y = \"Count\") +\n",
    "                ggtitle(\"PlaiCraft Players by Gender\") +\n",
    "                scale_y_continuous(breaks = c(0, 10, 20, 30, 40, 50, 60, 70, 80, 90, 100, 110, 120, 130)) +\n",
    "                theme(text = element_text(size = 12))\n",
    "gender_bar"
   ]
  },
  {
   "cell_type": "markdown",
   "id": "25317af6-de00-4800-8951-69e91500fc70",
   "metadata": {},
   "source": [
    "In this visualization, we can see that the majority of PlaiCraft players identify as male, with female coming in second, and non-binary coming in third."
   ]
  },
  {
   "cell_type": "markdown",
   "id": "056a28a3-7818-4264-b2f8-555d66e10e11",
   "metadata": {},
   "source": [
    "#### Visualization #6"
   ]
  },
  {
   "cell_type": "code",
   "execution_count": null,
   "id": "79315755-d3ec-4c8d-9458-4eff0d09b13c",
   "metadata": {},
   "outputs": [],
   "source": [
    "options(repr.plot.width = 10, repr.plot.height = 5)\n",
    "experience_subscribe_bar <- ggplot(players_data, aes(x = experience, fill = subscribe)) +\n",
    "                                geom_bar(position = \"fill\") +\n",
    "                                labs(x = \"Gaming Experience\", y = \"Ratio of Players\", fill = \"Are they Subscribed?\") +\n",
    "                                ggtitle(\"Subscription of Players Based on Gaming Experience\") +\n",
    "                                theme(text= element_text(size = 12))\n",
    "experience_subscribe_bar"
   ]
  },
  {
   "cell_type": "markdown",
   "id": "149a0a29-84eb-4200-932b-8d7a37f27b53",
   "metadata": {},
   "source": [
    "In this visualization, it seems like regular players are most likely to subscribe to PlaiCraft compared to the other gaming experiences. Although, across all gaming experiences, there are similar proportions of subscribed and not subscribed."
   ]
  },
  {
   "cell_type": "markdown",
   "id": "47a785c7-cd9f-401b-8601-d5cae986dfc3",
   "metadata": {},
   "source": [
    "### 4. Methods and Plans"
   ]
  },
  {
   "cell_type": "markdown",
   "id": "b3da8e15-1042-4d3f-9cce-11402df11161",
   "metadata": {},
   "source": [
    "The method I would use to address my question of interest is non-linear regression. I will be working on the sessions.csv dataset as it contains all the variables I need in order to analyze and answer my question. I can use the start_time values and wrangle the dataet to achieve the total number of players online at intervals of the day; similar to visualization #2 above. My question is more dependent on time of sessions and how many players are playing. Thus, the players.csv dataset does not contain any variables that will effectively aid my analysis.\n",
    "\n",
    "The model chosen is appropriate because one, I am looking to predict a numerical value, which compared to classification, would not be able to do. Two, with basing my classifer off of the explanatory variable of \"time of day\" and response variable of \"number of players online\", I would be able to efficiently input any hour of the day and collect the average output that the classifier computed based on the closest *k* I choose and previous data of how many players are expected to be online. I can then decide myself if the number of players online is exceeding the number of licenses I currently have at hand for that time of day and decide what the best course of action is for the licenses.\n",
    "\n",
    "Fortunately, the non-linear regression model does not require much assumptions compared to the linear one where it assumes that the data is linear. A reason for its minimal assumptions is due to its nearest neighbours system.\n",
    "\n",
    "The weaknesses of the method selected are that. Fortunately, this dataset is not too large so far, so it will not take long to compute an average outcome. However, it can become a problem for when I want to add a lot more data in to get a more accurate outcome.\n",
    "\n",
    "To process the data, I will first split the dataset into a training and testing set using the function *initial_split* and then *training* and *testing*. The proportions would be 75% training and 25% testing.\n",
    "Next, I will use cross-validation on the training set to choose an appropriate *k* value. I will use the *nearest_neighbor* function with the arguments of \"rectangular\" weight_func and \"tune()\" for neighbors. The engine and mode will be \"kknn\" and \"regression\" respectively. Furthermore, I will create a recipe using the *recipe* function. My response variable will be the count of players online and the explanatory variable will be the time of day. The data argument will be the training set. I will scale and center all predictors so that the variables are on a comparable scale and none will overtake another. This is especially important for a KNN classifer system.\n",
    "The cross-validation comes next. It is recommended to use 5 - 10 folds, so I will go with 5. I will use the *vfold_cv* function with the arguments of 5 folds and the count of players online being the strata. Likewise, I will create a workflow with the recipe and model I created.\n",
    "I will then make check the a tibble that will contain the range of *k* values from 1 to () by (). Additionally, I will use *tune_grid* with the arguments of my cross validation set as the resamples and grid as my tibble. Then, I will use *collect_metrics*, filter for \"rmse\" and use *slice_min* for the mean to get the most optimal *k*.\n",
    "Testing comes next. I will repeat the steps to make the model, but change \"tune()\" for the optimal *k*. I will create a workflow with the same recipe, new model, and fit the data into the training set. Then, I can use *predict* on the testing data that was split beforehand. Use *bind_cols* to attach that prediction column to the testing data and then see the metrics with the arguments of truth being total count of players online and estimate being \".pred\".\n",
    "\n"
   ]
  },
  {
   "cell_type": "markdown",
   "id": "8c0e9890-428e-480e-aba4-75f39ed4661e",
   "metadata": {},
   "source": [
    "### References"
   ]
  },
  {
   "cell_type": "markdown",
   "id": "171b4018-d697-48a2-89a6-f7c96687e34b",
   "metadata": {},
   "source": [
    "Wickham, Hadley, and Garrett Grolemund. 2016. R for Data Science: Import, Tidy, Transform, Visualize, and Model Data. O’Reilly. https://r4ds.had.co.nz/."
   ]
  }
 ],
 "metadata": {
  "kernelspec": {
   "display_name": "R",
   "language": "R",
   "name": "ir"
  },
  "language_info": {
   "codemirror_mode": "r",
   "file_extension": ".r",
   "mimetype": "text/x-r-source",
   "name": "R",
   "pygments_lexer": "r",
   "version": "4.3.3"
  }
 },
 "nbformat": 4,
 "nbformat_minor": 5
}
