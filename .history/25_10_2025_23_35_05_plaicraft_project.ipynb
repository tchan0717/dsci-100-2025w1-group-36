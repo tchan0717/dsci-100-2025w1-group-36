{
 "cells": [
  {
   "cell_type": "markdown",
   "id": "4097c7b9-6111-4b54-809b-e4d0e590ff3e",
   "metadata": {},
   "source": [
    "# PlaiCraft DSCI 100 Individual Planning\n",
    "\n",
    "In this individual planning, I will be analyzing and visualizing data submitted by Frank Wood's Computer Science research group to prepare for the group aspect of the project where we will answer a predictive question. First, I will be loading in the tidyverse, ggplot2, and lubridate R package to use for later."
   ]
  },
  {
   "cell_type": "code",
   "execution_count": null,
   "id": "2c655e07-af5e-4a4c-8d82-a5e1a1c8e004",
   "metadata": {},
   "outputs": [],
   "source": [
    "library(tidyverse)\n",
    "library(ggplot2)\n",
    "library(lubridate)"
   ]
  },
  {
   "cell_type": "markdown",
   "id": "f8c5157d-a18b-4957-8641-8a2ed8b7b0dc",
   "metadata": {},
   "source": [
    "### 1. Inspecting the Datasets"
   ]
  },
  {
   "cell_type": "markdown",
   "id": "0918b3cf-0005-45b1-a79e-566e0f681309",
   "metadata": {},
   "source": [
    "Let's read in our two datasets and inspect what data we have to work with."
   ]
  },
  {
   "cell_type": "code",
   "execution_count": null,
   "id": "d7f8f434-d21b-4454-8176-2f1c8672e66f",
   "metadata": {},
   "outputs": [],
   "source": [
    "players_data <- read_csv(\"data/players.csv\")\n",
    "players_data"
   ]
  },
  {
   "cell_type": "markdown",
   "id": "857a9006-ace1-4661-87c9-d1ed3f19d8d4",
   "metadata": {},
   "source": [
    "#### Description of the set:"
   ]
  },
  {
   "cell_type": "markdown",
   "id": "13245473-8595-4e7b-9627-8bbad6cbd867",
   "metadata": {},
   "source": [
    "The data in the \"players.csv\" file provided for PlaiCraft has 7 variables and 196 observations as listed at the top of the data table (196x7). The variables, their data type, and description of what they represent are listed below:\n",
    "1. `experience`: *chr (character)* - determines the \"level\" of the players' gaming experience as a Beginner, Amateur, Veteran, or Pro (the most experienced)\n",
    "2. `subscribe`: *lgl (logical)* - indicated with TRUE for \"yes\" or FALSE for \"no\", determining whether or not the player is subscribed to PlaiCraft\n",
    "3. `hashedemail`: *chr (character)* - email address of player, but in hashed form with a sequence of letters and numbers\n",
    "4. `played_hours`: *dbl (decimal)* - how many hours the player played PlaiCraft for (assuming over a few days)\n",
    "5. `name`: *chr (character)* - first name of player\n",
    "6. `gender`: *chr (character)* - gender of player\n",
    "7. `age`: *dbl (decimal)* - age of player\n",
    "\n",
    "\n",
    "One issue seen is that it is unclear over how many days this report has been collecting the data for. There is no indication and no metadata of how long these hours_played were collected from. I also see another issue with the subscribe column. I assume this column is based on subscription of the game, as in who signed their email up for to play PlaiCraft and who is playing as a guest. However, it is unclear whether this is the case or not or if the subscription is for another thing related to the game."
   ]
  },
  {
   "cell_type": "markdown",
   "id": "c44401f9-a9de-4dce-8653-abd693734dcc",
   "metadata": {},
   "source": [
    "Now let's read in next dataset:"
   ]
  },
  {
   "cell_type": "code",
   "execution_count": null,
   "id": "77623475-f496-4442-8b03-f7611fe35992",
   "metadata": {},
   "outputs": [],
   "source": [
    "sessions_data <- read_csv(\"data/sessions.csv\")\n",
    "sessions_data"
   ]
  },
  {
   "cell_type": "markdown",
   "id": "ca2159c3-2d9b-481e-bee6-5ba1587a2f3b",
   "metadata": {},
   "source": [
    "#### Description of the set:\n",
    "The data in the \"sessions.csv\" file provided for PlaiCraft has 5 variables and 1535 observations as indicated by the top of the data table (1535x5). The variables, their data type, and description of what they represent are listed below: \n",
    "1. `hashedemail`: *chr (character)* - the players' email, but in hashed form\n",
    "2. `start_time`: *chr (character)* - start time of players' gametime in \"mm/dd/yyyy\" and \"time (in 24 hour interval)\"\n",
    "4. `end_time`: *chr (character)* - end time of players' gametime in \"mm/dd/yyyy\" and \"time (in 24 hour interval)\"\n",
    "5. `original_start_time`: *dbl (decimal)* - players' start time in numerical form\n",
    "6. `original_end_time`: *dbl (decimal)* - players' end time in numerical form\n",
    "\n",
    "\n",
    "One issue seen is that it is difficult at first to determine what is meant by the original_start_time and original_end_time. Especially with the large values given, there is no extra information given about what these values specify and how they connect to the original_start_time and original_end_time. With this, the original_start_time and original_end_time column values are in a format that we won't be able to use effectively for analysis. Thus, we will have to perform some wrangling."
   ]
  },
  {
   "cell_type": "markdown",
   "id": "01891048-4142-4c2b-a0f6-e1d9a610eddb",
   "metadata": {},
   "source": [
    "### 2. The Question\n",
    "Now that we have taken a view at our data. Let's state the question.\n",
    "\n",
    "The broad question I will be addressing for this project is question #3: We are interested in demand forecasting, namely, what time windows are most likely to have large number of simultaneous players. This is because we need to ensure that the number of licenses on hand is sufficiently large to accommodate all parallel players with high probability. \n",
    "\n",
    "With this, my specific predictive question will be: \n",
    "##### Can players' start time predict how many simultaneous players will be online so that we can determine if we have enough licenses to go out at a certain hour of the day?"
   ]
  },
  {
   "cell_type": "markdown",
   "id": "a6a158c1-7d6f-434c-a4ef-bef9cd3417d0",
   "metadata": {},
   "source": [
    "### 3. Exploratory Data Analysis and Visualization\n",
    "It was demonstrated above that the data can be loaded into R, so now we will tidy up the data. Tidy data follows the format of one variable per column, one observation per row, and one value in each cell. The \"players.csv\" follows these rules, so let's tidy up the \"sessions.csv\"."
   ]
  },
  {
   "cell_type": "code",
   "execution_count": null,
   "id": "779f6243-10eb-450b-9f7a-75c41316c637",
   "metadata": {},
   "outputs": [],
   "source": [
    "sessions_data_tidy <- separate(sessions_data, \n",
    "                                end_time, \n",
    "                                into = c(\"date\", \"end_time\"),\n",
    "                                sep = \" \") |>\n",
    "                      separate(start_time,\n",
    "                                into = c(\"date\", \"start_time\"),\n",
    "                                sep = \" \") |>\n",
    "                       mutate(start_time = as.numeric(hm(start_time))/3600) |>\n",
    "                       mutate(end_time = as.numeric(hm(end_time))/3600) |>\n",
    "                       mutate(start_time_hr = as.integer(start_time)) |>\n",
    "                       mutate(end_time_hr = as.integer(end_time))\n",
    "sessions_data_tidy"
   ]
  },
  {
   "cell_type": "markdown",
   "id": "a23d5cb3-159f-495c-9d73-b48fd7807480",
   "metadata": {},
   "source": [
    "Now let's compute the mean for each quantitative variable in the \"players.csv\" data set."
   ]
  },
  {
   "cell_type": "code",
   "execution_count": null,
   "id": "9843e00d-46cc-45cb-b281-70cf1056a24b",
   "metadata": {},
   "outputs": [],
   "source": [
    "players_data_tidy <- players_data |>\n",
    "                        select(played_hours, Age) |>\n",
    "                        summarize(across(played_hours:Age, ~ mean(.x, na.rm = TRUE)))\n",
    "players_data_tidy                        "
   ]
  },
  {
   "cell_type": "markdown",
   "id": "76c4d9b7-8690-46b0-8ea9-b96a97c1cf5e",
   "metadata": {},
   "source": [
    "Next, let's create some exploratory visualizations."
   ]
  },
  {
   "cell_type": "markdown",
   "id": "1661651b-945d-4c76-ba55-194b88ca9fbb",
   "metadata": {},
   "source": [
    "#### Visualization #1"
   ]
  },
  {
   "cell_type": "code",
   "execution_count": null,
   "id": "4e9617df-8073-4fc9-a9b3-1df5b0e21ad8",
   "metadata": {},
   "outputs": [],
   "source": [
    "options(repr.plot.width = 9, repr.plot.height = 6)\n",
    "played_hours_age_plot <- ggplot(players_data, aes(x = Age, y = played_hours, colour = gender)) +\n",
    "                            geom_point() +\n",
    "                            labs(x = \"Age (Years)\", y = \"Hours of PlaiCraft Played\", colour = \"Gender\") +\n",
    "                            ggtitle(\"The Effect of Age on Hours Played of PlaiCraft Players\") +\n",
    "                            theme(text = element_text(size = 12))\n",
    "played_hours_age_plot"
   ]
  },
  {
   "cell_type": "markdown",
   "id": "5d1ad31a-dae1-4c8d-8555-f372b8747201",
   "metadata": {},
   "source": [
    "#### Visualization #2"
   ]
  },
  {
   "cell_type": "code",
   "execution_count": null,
   "id": "e56f3739-ec36-4531-b539-42f2bf2d51d8",
   "metadata": {},
   "outputs": [],
   "source": [
    "options(repr.plot.width = 9, repr.plot.height = 6)\n",
    "age_histogram <- ggplot(players_data, aes(x = Age)) +\n",
    "                    geom_histogram() +\n",
    "                    labs(x = \"Age (Years)\", y = \"Count\") +\n",
    "                    ggtitle(\"Distribution of PlaiCraft's Players' Ages\") +\n",
    "                    scale_x_continuous(breaks = c(0, 5, 10, 15, 20, 25, 30, 35, 40, 45, 50, 55, 60, 65, 70, 75)) +\n",
    "                    theme(text = element_text(size = 15))\n",
    "age_histogram"
   ]
  },
  {
   "cell_type": "markdown",
   "id": "d437d796-f6d0-4725-b1c4-dc7e3d9f126d",
   "metadata": {},
   "source": [
    "In this visualization, we can see that the highest number of PlaiCraft players in the dataset are of the age of approximately 16 yars old. A lot of the players' ages are condensed around the teenager to young adult ages of 15 - 25. There are however, a few beyond this at the adult and senior ages."
   ]
  },
  {
   "cell_type": "markdown",
   "id": "541cc7e3-1d9a-4bb8-b7bc-905a95a707ba",
   "metadata": {},
   "source": [
    "#### Visualization #3"
   ]
  },
  {
   "cell_type": "code",
   "execution_count": null,
   "id": "529f7a40-196d-4325-9d1f-0b59943632f8",
   "metadata": {},
   "outputs": [],
   "source": [
    "distinct(players_data, gender)"
   ]
  },
  {
   "cell_type": "code",
   "execution_count": null,
   "id": "448aa267-6c5d-4723-b4cc-4eca60744b06",
   "metadata": {},
   "outputs": [],
   "source": [
    "options(repr.plot.width = 8, repr.plot.height = 6)\n",
    "gender_data <- players_data |>\n",
    "                group_by(gender) |>\n",
    "                summarize(total_gender = n())\n",
    "gender_bar <- ggplot(gender_data, aes(x = gender, y = total_gender)) +\n",
    "                geom_bar(stat = \"identity\") +\n",
    "                labs(x = \"Gender\", y = \"Count\") +\n",
    "                ggtitle(\"PlaiCraft Players by Gender\") +\n",
    "                scale_y_continuous(breaks = c(0, 10, 20, 30, 40, 50, 60, 70, 80, 90, 100, 110, 120, 130)) +\n",
    "                theme(text = element_text(size = 12))\n",
    "gender_bar"
   ]
  },
  {
   "cell_type": "markdown",
   "id": "25317af6-de00-4800-8951-69e91500fc70",
   "metadata": {},
   "source": [
    "In this visualization, we can see that the majority of PlaiCraft players identify as male, with female coming in second, and non-binary coming in third."
   ]
  },
  {
   "cell_type": "markdown",
   "id": "056a28a3-7818-4264-b2f8-555d66e10e11",
   "metadata": {},
   "source": [
    "#### Visualization #4"
   ]
  },
  {
   "cell_type": "code",
   "execution_count": null,
   "id": "79315755-d3ec-4c8d-9458-4eff0d09b13c",
   "metadata": {},
   "outputs": [],
   "source": [
    "options(repr.plot.width = 10, repr.plot.height = 5)\n",
    "experience_subscribe_bar <- ggplot(players_data, aes(x = experience, fill = subscribe)) +\n",
    "                                geom_bar(position = \"fill\") +\n",
    "                                labs(x = \"Gaming Experience\", y = \"Ratio of Players\", fill = \"Are they Subscribed?\") +\n",
    "                                ggtitle(\"Subscription of Players Based on Gaming Experience\") +\n",
    "                                theme(text= element_text(size = 12))\n",
    "experience_subscribe_bar"
   ]
  },
  {
   "cell_type": "markdown",
   "id": "149a0a29-84eb-4200-932b-8d7a37f27b53",
   "metadata": {},
   "source": [
    "In this visualization, it seems like regular players are most likely to subscribe to PlaiCraft compared to the other gaming experiences. Although, across all gaming experiences, there are similar proportions of subscribed and not subscribed."
   ]
  },
  {
   "cell_type": "code",
   "execution_count": null,
   "id": "0242aceb-35cf-4577-b515-a81daa104fb0",
   "metadata": {},
   "outputs": [],
   "source": [
    "options(repr.plot.width = 15, repr.plot.height = 6)\n",
    "start_time_players_total <- group_by(sessions_data_tidy, start_time_hr) |>\n",
    "                                summarize(total_players = n())\n",
    "\n",
    "start_time_players_line <- ggplot(start_time_players_total, aes(x = start_time_hr, y = total_players)) +\n",
    "                                geom_line(alpha= 0.6) +\n",
    "                                labs(x = \"Hour of Day\", y = \"Total Players Starting\") +\n",
    "                                scale_x_continuous(breaks = seq(0, 24, by = 5)\n",
    "start_time_players_line"
   ]
  },
  {
   "cell_type": "markdown",
   "id": "47a785c7-cd9f-401b-8601-d5cae986dfc3",
   "metadata": {},
   "source": [
    "### 4. Methods and Plans"
   ]
  },
  {
   "cell_type": "markdown",
   "id": "b3da8e15-1042-4d3f-9cce-11402df11161",
   "metadata": {},
   "source": [
    "The method I would use to address my question of interest is a predictive method, specifically, regression. This method is appropriate because if I had a certain amount of licenses and wanted to at what time of the day I should release them to maximize and release all the licenses I have, a predicitive method would be able to do just that. With basing my classifer off of the explanatory variables of number of players online and time of day, I will be able to "
   ]
  }
 ],
 "metadata": {
  "kernelspec": {
   "display_name": "R",
   "language": "R",
   "name": "ir"
  },
  "language_info": {
   "codemirror_mode": "r",
   "file_extension": ".r",
   "mimetype": "text/x-r-source",
   "name": "R",
   "pygments_lexer": "r",
   "version": "4.3.3"
  }
 },
 "nbformat": 4,
 "nbformat_minor": 5
}
