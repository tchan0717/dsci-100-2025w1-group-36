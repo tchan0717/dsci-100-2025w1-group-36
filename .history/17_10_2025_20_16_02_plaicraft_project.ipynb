{
 "cells": [
  {
   "cell_type": "markdown",
   "id": "4097c7b9-6111-4b54-809b-e4d0e590ff3e",
   "metadata": {},
   "source": [
    "# PlaiCraft DSCI 100 Individual Planning Project\n",
    "\n",
    "In this project, I will be analyzing data submitted by Frank Wood's Computer Science research group to create a system that can be used to predict one of their broad questions of choice. First, I will be loading in the tidyverse R package."
   ]
  },
  {
   "cell_type": "code",
   "execution_count": null,
   "id": "2c655e07-af5e-4a4c-8d82-a5e1a1c8e004",
   "metadata": {},
   "outputs": [],
   "source": [
    "library(tidyverse)"
   ]
  },
  {
   "cell_type": "markdown",
   "id": "f8c5157d-a18b-4957-8641-8a2ed8b7b0dc",
   "metadata": {},
   "source": [
    "### 1. Inspecting the datasets"
   ]
  },
  {
   "cell_type": "markdown",
   "id": "0918b3cf-0005-45b1-a79e-566e0f681309",
   "metadata": {},
   "source": [
    "Let's read in our two datasets and inspect what data we have to work with."
   ]
  },
  {
   "cell_type": "code",
   "execution_count": null,
   "id": "d7f8f434-d21b-4454-8176-2f1c8672e66f",
   "metadata": {},
   "outputs": [],
   "source": [
    "players_data <- read_csv(\"data/players.csv\")\n",
    "players_data"
   ]
  },
  {
   "cell_type": "markdown",
   "id": "857a9006-ace1-4661-87c9-d1ed3f19d8d4",
   "metadata": {},
   "source": [
    "#### Description of the set:"
   ]
  },
  {
   "cell_type": "markdown",
   "id": "13245473-8595-4e7b-9627-8bbad6cbd867",
   "metadata": {},
   "source": [
    "The data in the players file provided for PlaiCraft has 7 variables and 196 observations as listed at the top of the data table (196x7). The variables, and their data type are the following: \n",
    "1. `experience`: chr (character) - \n",
    "2. `subscribe`\n",
    "3. `hashedemail`\n",
    "4. `played_hours`\n",
    "5. `name`\n",
    "6. `gender`\n",
    "7. `age`\n",
    "Respectively, these variables are of the type: character, lgl, character, decimal, character, character, and decimal. The experience variable determines what \"level\" the players' gaming can be catergorized as Beginner, Amateur, Veteran, and Pro. Pro being the most experienced title, and Beginner being the least experienced. Moreover, the subscribe variable determines whether or not the player is subscribed to PLaiCraft, indicated with a TRUE or FALSE; TRUE for \"yes\" and FALSE for \"no\". The hashedemail variable represents the email address of the player, but in hashed form. The played_hours variable represents how many hours the player played PlaiCraft for (assuming over a few days) ranging from 0 hours to approximately 40 hours. The name, gender, and age variables represent the name, gender, and age of the player. The age ranges from approximately 9 to 47 years old.  One issue seen is that it is unclear over how many days this report has been collecting the data for. There is no indication of how long these hours_played were collected from. I also see another issue with the subscribe column. I assume this column is based on subscription of the game, as in who signed their email up for to play PlaiCraft. However, it is unclear whether this is the case or not or if the subscription is for another thing related to the game."
   ]
  },
  {
   "cell_type": "code",
   "execution_count": null,
   "id": "77623475-f496-4442-8b03-f7611fe35992",
   "metadata": {},
   "outputs": [],
   "source": [
    "sessions_data <- read_csv(\"data/sessions.csv\")\n",
    "sessions_data"
   ]
  },
  {
   "cell_type": "markdown",
   "id": "ca2159c3-2d9b-481e-bee6-5ba1587a2f3b",
   "metadata": {},
   "source": [
    "The data in the sessions file provided for PlaiCraft has 5 variables and 1535 observations as indicated by the top of the data table (1535x5). The variables listed are the following: hashedemail, start_time, end_time, original_start_time, and original_end_time. Respectively, the variables are of the type: character, character, character, decimal, and decimal. As mentioned above, the hashedemail variable represents the players' email, but in hashed form. The start_time and end_time variable represents the start and end time in the form of \"mm/dd/yyyy\" and \"time (in 24 hour interval), of the players' gametime. Furthermore, the original_start_time and original_end_time variable seems to indicate the (). One issue seen is that it is difficult at first to determine what is meant by the original_start_time and original_end_time. Especially with the large values given, there is no extra information given about what these values specify and how they connect to the original_start_time and original_end_time."
   ]
  },
  {
   "cell_type": "markdown",
   "id": "01891048-4142-4c2b-a0f6-e1d9a610eddb",
   "metadata": {},
   "source": [
    "The broad question I will be addressing for this project is question #3: We are interested in demand forecasting, namely, what time windows are most likely to have large number of simultaneous players. This is because we need to ensure that the number of licenses on hand is sufficiently large to accommodate all parallel players with high probability. \n",
    "\n",
    "With this, my specific predictive question will be: Can player's start and end game time predict when to release a certain amount of licenses at hand to maximize, but also ensure there is enough to go out?"
   ]
  },
  {
   "cell_type": "code",
   "execution_count": null,
   "id": "35570f88-176a-4ac0-8964-d54f03f13508",
   "metadata": {},
   "outputs": [],
   "source": []
  }
 ],
 "metadata": {
  "kernelspec": {
   "display_name": "R",
   "language": "R",
   "name": "ir"
  },
  "language_info": {
   "codemirror_mode": "r",
   "file_extension": ".r",
   "mimetype": "text/x-r-source",
   "name": "R",
   "pygments_lexer": "r",
   "version": "4.3.3"
  }
 },
 "nbformat": 4,
 "nbformat_minor": 5
}
