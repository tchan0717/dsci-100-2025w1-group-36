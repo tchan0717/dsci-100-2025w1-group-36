{
 "cells": [
  {
   "cell_type": "markdown",
   "id": "4097c7b9-6111-4b54-809b-e4d0e590ff3e",
   "metadata": {},
   "source": [
    "# PlaiCraft DSCI 100 Individual Planning\n",
    "\n",
    "In this individual planning, I will be analyzing and visualizing data submitted by Frank Wood's Computer Science research group to prepare for the group aspect of the project where we will answer an agreed upon predictive question. First, I will be loading in the tidyverse, ggplot2, and lubridate R package to use for later."
   ]
  },
  {
   "cell_type": "code",
   "execution_count": null,
   "id": "2c655e07-af5e-4a4c-8d82-a5e1a1c8e004",
   "metadata": {},
   "outputs": [],
   "source": [
    "library(tidyverse)\n",
    "library(ggplot2)\n",
    "library(lubridate)\n",
    "set.seed(9999)"
   ]
  },
  {
   "cell_type": "markdown",
   "id": "f8c5157d-a18b-4957-8641-8a2ed8b7b0dc",
   "metadata": {},
   "source": [
    "### 1. Inspecting the Datasets"
   ]
  },
  {
   "cell_type": "markdown",
   "id": "0918b3cf-0005-45b1-a79e-566e0f681309",
   "metadata": {},
   "source": [
    "Firstly, let's read in the two datasets and inspect what data we have to work with."
   ]
  },
  {
   "cell_type": "code",
   "execution_count": null,
   "id": "d7f8f434-d21b-4454-8176-2f1c8672e66f",
   "metadata": {},
   "outputs": [],
   "source": [
    "players_data <- read_csv(\"data/players.csv\")\n",
    "players_data"
   ]
  },
  {
   "cell_type": "markdown",
   "id": "857a9006-ace1-4661-87c9-d1ed3f19d8d4",
   "metadata": {},
   "source": [
    "#### Description of the set:"
   ]
  },
  {
   "cell_type": "markdown",
   "id": "13245473-8595-4e7b-9627-8bbad6cbd867",
   "metadata": {},
   "source": [
    "The data in the \"players.csv\" file provided for PlaiCraft has 7 variables and 196 observations as listed at the top of the data table (196x7). The variables, their data type, and description of what they represent are listed below:\n",
    "1. `experience`: *chr (character)* - determines the \"level\" of the players' gaming experience as a Beginner, Amateur, Veteran, or Pro (the most experienced)\n",
    "2. `subscribe`: *lgl (logical)* - indicated with TRUE for \"yes\" or FALSE for \"no\", determining whether or not the player is subscribed to PlaiCraft\n",
    "3. `hashedemail`: *chr (character)* - email address of player, but in hashed form with a sequence of letters and numbers\n",
    "4. `played_hours`: *dbl (decimal)* - how many hours the player played PlaiCraft for (assuming over a few days)\n",
    "5. `name`: *chr (character)* - first name of player\n",
    "6. `gender`: *chr (character)* - gender of player\n",
    "7. `age`: *dbl (decimal)* - age of player\n",
    "\n",
    "\n",
    "One issue seen is that it is unclear over how many days this report has been collecting the data for. There is no indication and no metadata of how long these hours_played were collected for. I also see another issue with the subscribe column. I assume this column is based on subscription of the game, as in who signed their email up for to play PlaiCraft and who is playing as a guest. However, it is unclear whether this is the case or not or if the subscription is for another thing related to the game."
   ]
  },
  {
   "cell_type": "markdown",
   "id": "c44401f9-a9de-4dce-8653-abd693734dcc",
   "metadata": {},
   "source": [
    "Now let's read in the next dataset:"
   ]
  },
  {
   "cell_type": "code",
   "execution_count": null,
   "id": "77623475-f496-4442-8b03-f7611fe35992",
   "metadata": {},
   "outputs": [],
   "source": [
    "sessions_data <- read_csv(\"data/sessions.csv\")\n",
    "sessions_data"
   ]
  },
  {
   "cell_type": "markdown",
   "id": "ca2159c3-2d9b-481e-bee6-5ba1587a2f3b",
   "metadata": {},
   "source": [
    "#### Description of the set:\n",
    "The data in the \"sessions.csv\" file provided for PlaiCraft has 5 variables and 1535 observations as indicated by the top of the data table (1535x5). The variables, their data type, and description of what they represent are listed below: \n",
    "1. `hashedemail`: *chr (character)* - the players' email, but in hashed form\n",
    "2. `start_time`: *chr (character)* - start time of players' gametime session in \"mm/dd/yyyy\" and \"time (in 24 hour interval)\"\n",
    "4. `end_time`: *chr (character)* - end time of players' gametime session in \"mm/dd/yyyy\" and \"time (in 24 hour interval)\"\n",
    "5. `original_start_time`: *dbl (decimal)* - players' start time in numerical form\n",
    "6. `original_end_time`: *dbl (decimal)* - players' end time in numerical form\n",
    "\n",
    "\n",
    "One issue seen is that it is difficult at first to determine what is meant by the original_start_time and original_end_time. Especially with the large values given, there is no extra information given about what these values specify and how they connect to the original_start_time and original_end_time. With this, the original_start_time and original_end_time column values are in a format that we won't be able to use effectively for analysis. Thus, we will have to perform some wrangling."
   ]
  },
  {
   "cell_type": "markdown",
   "id": "01891048-4142-4c2b-a0f6-e1d9a610eddb",
   "metadata": {},
   "source": [
    "### 2. The Question\n",
    "Now that we have taken a view at our data. Let's state the question.\n",
    "\n",
    "The broad question I will be addressing for this planning is question #3: \"We are interested in demand forecasting, namely, what time windows are most likely to have large number of simultaneous players. This is because we need to ensure that the number of licenses on hand is sufficiently large to accommodate all parallel players with high probability.\" \n",
    "\n",
    "With this, the specific predictive question I formulated is: \n",
    "##### Can players' start time predict how many simultaneous players will be online so that we can determine if we have enough licenses to go out at any hour of the day?"
   ]
  },
  {
   "cell_type": "markdown",
   "id": "a6a158c1-7d6f-434c-a4ef-bef9cd3417d0",
   "metadata": {},
   "source": [
    "### 3. Exploratory Data Analysis and Visualization\n",
    "It was demonstrated above that the data can be loaded into R, so now we will tidy up the data. Tidy data follows the format of one variable per column, one observation per row, and one value in each cell. The \"players.csv\" follows these rules, so let's tidy up the \"sessions.csv\". I will transform the start_time and end_time columns to be a decimal type instead of character so that I can use it for visualizations later. I will also add an extra two columns for the start_time and end_time in hours as integers for later analysis."
   ]
  },
  {
   "cell_type": "code",
   "execution_count": null,
   "id": "779f6243-10eb-450b-9f7a-75c41316c637",
   "metadata": {},
   "outputs": [],
   "source": [
    "sessions_data_tidy <- separate(sessions_data, \n",
    "                                end_time, \n",
    "                                into = c(\"date\", \"end_time\"),\n",
    "                                sep = \" \") |>\n",
    "                      separate(start_time,\n",
    "                                into = c(\"date\", \"start_time\"),\n",
    "                                sep = \" \") |>\n",
    "                       mutate(start_time = as.numeric(hm(start_time))/3600) |>\n",
    "                       mutate(end_time = as.numeric(hm(end_time))/3600) |>\n",
    "                       mutate(start_time_hr = as.integer(start_time)) |>\n",
    "                       mutate(end_time_hr = as.integer(end_time))\n",
    "sessions_data_tidy"
   ]
  },
  {
   "cell_type": "markdown",
   "id": "a23d5cb3-159f-495c-9d73-b48fd7807480",
   "metadata": {},
   "source": [
    "Now let's compute the mean for each quantitative variable in the \"players.csv\" data set."
   ]
  },
  {
   "cell_type": "code",
   "execution_count": null,
   "id": "9843e00d-46cc-45cb-b281-70cf1056a24b",
   "metadata": {},
   "outputs": [],
   "source": [
    "players_data_tidy <- players_data |>\n",
    "                        select(played_hours, Age) |>\n",
    "                        summarize(across(played_hours:Age, ~ mean(.x, na.rm = TRUE)))\n",
    "players_data_tidy                        "
   ]
  },
  {
   "cell_type": "markdown",
   "id": "76c4d9b7-8690-46b0-8ea9-b96a97c1cf5e",
   "metadata": {},
   "source": [
    "Next, let's create some exploratory visualizations to understand the data more and possibly seek out any helpful relationships. Visualizations make it much easier to interpret datasets and make large datasets into concise figures."
   ]
  },
  {
   "cell_type": "markdown",
   "id": "1661651b-945d-4c76-ba55-194b88ca9fbb",
   "metadata": {},
   "source": [
    "#### Visualization #1"
   ]
  },
  {
   "cell_type": "code",
   "execution_count": null,
   "id": "4e9617df-8073-4fc9-a9b3-1df5b0e21ad8",
   "metadata": {},
   "outputs": [],
   "source": [
    "options(repr.plot.width = 11, repr.plot.height = 9)\n",
    "played_hours_age_plot <- ggplot(players_data, aes(x = Age, y = played_hours + 1)) +\n",
    "                            geom_point(alpha = 0.5) +\n",
    "                            labs(x = \"Age (Years)\", y = \"Hours of PlaiCraft Played (Scaled)\") +\n",
    "                            ggtitle(\"The Effect of Age on Hours Played of PlaiCraft Players\") +\n",
    "                            scale_y_log10() +\n",
    "                            theme(text = element_text(size = 12))\n",
    "played_hours_age_plot"
   ]
  },
  {
   "cell_type": "markdown",
   "id": "b0496d06-34b3-4419-8a34-e5a110a48758",
   "metadata": {},
   "source": [
    "In this visualization, there doesn't seem to be any relationship between the age of the players and the hours of PlaiCraft played. The points are pretty condensed near the bottom of the graph, with some outliers near the top half. The graph does seem to insinuate that teens and young adults tend to play for a greater amount of hours, specifically ages of around 18 - 20 years old. This is not only seen by the outliers, but nearby the condensed area as well."
   ]
  },
  {
   "cell_type": "markdown",
   "id": "b3beb580-0e9e-44ee-b672-b9a96b77206b",
   "metadata": {},
   "source": [
    "#### Visualization #2"
   ]
  },
  {
   "cell_type": "code",
   "execution_count": null,
   "id": "f3181ffb-e500-4886-a571-0e86a018f25c",
   "metadata": {},
   "outputs": [],
   "source": [
    "options(repr.plot.width = 15, repr.plot.height = 6)\n",
    "experience_hours_histogram <- ggplot(players_data, aes(x = played_hours)) +\n",
    "    geom_histogram(bins = 20) +\n",
    "    facet_grid(cols = vars(experience)) +\n",
    "    labs(x = \"Total Hours Played\", y = \"Count\") +\n",
    "    ggtitle(\"Distribution of Hours of PlaiCraft Played for Different Experiences\") +\n",
    "    theme(text = element_text(size = 15))\n",
    "experience_hours_histogram"
   ]
  },
  {
   "cell_type": "markdown",
   "id": "5d1ad31a-dae1-4c8d-8555-f372b8747201",
   "metadata": {},
   "source": [
    "#### Visualization #3"
   ]
  },
  {
   "cell_type": "code",
   "execution_count": null,
   "id": "e56f3739-ec36-4531-b539-42f2bf2d51d8",
   "metadata": {},
   "outputs": [],
   "source": [
    "options(repr.plot.width = 9, repr.plot.height = 6)\n",
    "age_histogram <- ggplot(players_data, aes(x = Age)) +\n",
    "                    geom_histogram(bins = 20) +\n",
    "                    labs(x = \"Age (Years)\", y = \"Count\") +\n",
    "                    ggtitle(\"Distribution of PlaiCraft's Players' Ages\") +\n",
    "                    scale_x_continuous(breaks = c(0, 5, 10, 15, 20, 25, 30, 35, 40, 45, 50, 55, 60, 65, 70, 75)) +\n",
    "                    theme(text = element_text(size = 15))\n",
    "age_histogram"
   ]
  },
  {
   "cell_type": "markdown",
   "id": "d437d796-f6d0-4725-b1c4-dc7e3d9f126d",
   "metadata": {},
   "source": [
    "In this visualization, we can see that the highest number of PlaiCraft players in the dataset are approximately 16 years old. A lot of the players' ages are condensed around the teenager to young adult ages of 16 - 25. There are however, a few beyond this at the young children, adult and senior ages."
   ]
  },
  {
   "cell_type": "markdown",
   "id": "26c9cd63-d084-4f98-a287-c02b20abfa06",
   "metadata": {},
   "source": [
    "#### Visualization #4"
   ]
  },
  {
   "cell_type": "code",
   "execution_count": null,
   "id": "0242aceb-35cf-4577-b515-a81daa104fb0",
   "metadata": {},
   "outputs": [],
   "source": [
    "options(repr.plot.width = 15, repr.plot.height = 6)\n",
    "start_time_players_total <- group_by(sessions_data_tidy, start_time_hr) |>\n",
    "                                summarize(total_players = n())\n",
    "\n",
    "start_time_players_line <- ggplot(start_time_players_total, aes(x = start_time_hr, y = total_players)) +\n",
    "                                geom_line(alpha= 0.6) +\n",
    "                                scale_x_continuous(breaks = seq(0, 24)) +\n",
    "                                labs(x = \"Hour of Day\", y = \"Total Players Online\") +\n",
    "                                ggtitle(\"Total Players Online at Each Hour of the Day\") +\n",
    "                                theme(text = element_text(size = 15))\n",
    "start_time_players_line"
   ]
  },
  {
   "cell_type": "markdown",
   "id": "c3b5b076-47ef-4250-a819-f6068fd1ff1e",
   "metadata": {},
   "source": [
    "This visualization is the most helpful for our specific question. It is just a rough estimate of how many players are online at a certain hour as I converted the time of day values to integers. So, it may not be the exact amount of players, but it should be relatively close. We can see that from 2 - 5am, there are the most number of players online on PlaiCraft. The number of players online is the lowest between 8am-2pm, and increases again from 3pm to the end of the day. I can connect these observations to the visualization above in that I can assume that young adults are most likely in class or working. It makes sense why visualization #2 increases from 3pm to the end of the day all the way to 5am the next day because a lot of workers and students who are young adults get their free time late at night."
   ]
  },
  {
   "cell_type": "markdown",
   "id": "541cc7e3-1d9a-4bb8-b7bc-905a95a707ba",
   "metadata": {},
   "source": [
    "#### Visualization #5"
   ]
  },
  {
   "cell_type": "markdown",
   "id": "b4488cca-fce8-42ea-b7c5-2cbf0e414e8c",
   "metadata": {},
   "source": [
    "The following graphs provide information that is not as important for my specific question, but it is worth while to create these visualizations to further understand and explore both datasets as a whole. It may be needed for when I come together with my group as well."
   ]
  },
  {
   "cell_type": "code",
   "execution_count": null,
   "id": "448aa267-6c5d-4723-b4cc-4eca60744b06",
   "metadata": {},
   "outputs": [],
   "source": [
    "options(repr.plot.width = 8, repr.plot.height = 6)\n",
    "gender_data <- players_data |>\n",
    "                group_by(gender) |>\n",
    "                summarize(total_gender = n())\n",
    "gender_bar <- ggplot(gender_data, aes(x = gender, y = total_gender)) +\n",
    "                geom_bar(stat = \"identity\") +\n",
    "                labs(x = \"Gender\", y = \"Count\") +\n",
    "                ggtitle(\"PlaiCraft Players by Gender\") +\n",
    "                scale_y_continuous(breaks = c(0, 10, 20, 30, 40, 50, 60, 70, 80, 90, 100, 110, 120, 130)) +\n",
    "                theme(text = element_text(size = 12))\n",
    "gender_bar"
   ]
  },
  {
   "cell_type": "markdown",
   "id": "25317af6-de00-4800-8951-69e91500fc70",
   "metadata": {},
   "source": [
    "In this visualization, we can see that the majority of PlaiCraft players identify as male, with female coming in second, and non-binary coming in third."
   ]
  },
  {
   "cell_type": "markdown",
   "id": "056a28a3-7818-4264-b2f8-555d66e10e11",
   "metadata": {},
   "source": [
    "#### Visualization #6"
   ]
  },
  {
   "cell_type": "code",
   "execution_count": null,
   "id": "79315755-d3ec-4c8d-9458-4eff0d09b13c",
   "metadata": {},
   "outputs": [],
   "source": [
    "options(repr.plot.width = 10, repr.plot.height = 5)\n",
    "experience_subscribe_bar <- ggplot(players_data, aes(x = experience, fill = subscribe)) +\n",
    "                                geom_bar(position = \"fill\") +\n",
    "                                labs(x = \"Gaming Experience\", y = \"Ratio of Players\", fill = \"Are they Subscribed?\") +\n",
    "                                ggtitle(\"Subscription of Players Based on Gaming Experience\") +\n",
    "                                theme(text= element_text(size = 12))\n",
    "experience_subscribe_bar"
   ]
  },
  {
   "cell_type": "markdown",
   "id": "149a0a29-84eb-4200-932b-8d7a37f27b53",
   "metadata": {},
   "source": [
    "In this visualization, it seems like regular players are most likely to subscribe to PlaiCraft compared to the other gaming experiences. Although, across all gaming experiences, there are similar proportions of subscribed and not subscribed."
   ]
  },
  {
   "cell_type": "markdown",
   "id": "47a785c7-cd9f-401b-8601-d5cae986dfc3",
   "metadata": {},
   "source": [
    "### 4. Methods and Plans"
   ]
  },
  {
   "cell_type": "markdown",
   "id": "b3da8e15-1042-4d3f-9cce-11402df11161",
   "metadata": {},
   "source": [
    "The method I would use to address my question of interest is a predictive method, specifically, non-linear regression. I will be working on the sessions.csv dataset as it contains all the variables I need in order to analyze and answer my question. I can use the start_time values and wrangle the data set to achieve the total number of players online at intervals of the day; similar to visualization #2 above. My question is more dependent on time of sessions and how many players are playing. Thus, the players.csv dataset does not contain any variables that will effectively aid my analysis.\n",
    "\n",
    "The model chosen is appropriate because one, I am looking to predict a numerical value, which compared to classification, would not be able to do. Two, with basing my classifer off of the explanatory variable of \"time of day\" and response variable of \"number of players online\", I would be able to efficiently input any hour of the day and collect the average output that the classifier computed based on the closest *k* I choose and previous data of how many players are expected to be online. I can then decide myself if the number of players online is exceeding the number of licenses I currently have at hand for that time of day and decide what the best course of action is for the licenses.\n",
    "\n",
    "Fortunately, the non-linear regression model does not require much assumptions compared to the linear one where it assumes that the data is linear. A reason for its minimal assumptions is due to its nearest neighbours system.\n",
    "\n",
    "The weaknesses of the method selected are that. Fortunately, this dataset is not too large so far, so it will not take long to compute an average outcome. However, it can become a problem for when I want to add a lot more data in to get a more accurate outcome.\n",
    "\n",
    "To process the data, I will first split the dataset into a training and testing set using the function *initial_split* and then *training* and *testing*. The proportions would be 75% training and 25% testing.\n",
    "Next, I will use cross-validation on the training set to choose an appropriate *k* value. I will use the *nearest_neighbor* function with the arguments of \"rectangular\" weight_func and \"tune()\" for neighbors. The engine and mode will be \"kknn\" and \"regression\" respectively. Furthermore, I will create a recipe using the *recipe* function. My response variable will be the count of players online and the explanatory variable will be the time of day. The data argument will be the training set. I will scale and center all predictors so that the variables are on a comparable scale and none will overtake another. This is especially important for a KNN classifer system.\n",
    "The cross-validation comes next. It is recommended to use 5 - 10 folds, so I will go with 5. I will use the *vfold_cv* function with the arguments of 5 folds and the count of players online being the strata. Likewise, I will create a workflow with the recipe and model I created.\n",
    "I will then make check the a tibble that will contain the range of *k* values from 1 to () by (). Additionally, I will use *tune_grid* with the arguments of my cross validation set as the resamples and grid as my tibble. Then, I will use *collect_metrics*, filter for \"rmse\" and use *slice_min* for the mean to get the most optimal *k*.\n",
    "Testing comes next. I will repeat the steps to make the model, but change \"tune()\" for the optimal *k*. I will create a workflow with the same recipe, new model, and fit the data into the training set. Then, I can use *predict* on the testing data that was split beforehand. Use *bind_cols* to attach that prediction column to the testing data and then see the metrics with the arguments of truth being total count of players online and estimate being \".pred\".\n",
    "\n"
   ]
  },
  {
   "cell_type": "markdown",
   "id": "8c0e9890-428e-480e-aba4-75f39ed4661e",
   "metadata": {},
   "source": [
    "### References"
   ]
  },
  {
   "cell_type": "markdown",
   "id": "171b4018-d697-48a2-89a6-f7c96687e34b",
   "metadata": {},
   "source": [
    "Wickham, Hadley, and Garrett Grolemund. 2016. R for Data Science: Import, Tidy, Transform, Visualize, and Model Data. O’Reilly. https://r4ds.had.co.nz/."
   ]
  }
 ],
 "metadata": {
  "kernelspec": {
   "display_name": "R",
   "language": "R",
   "name": "ir"
  },
  "language_info": {
   "codemirror_mode": "r",
   "file_extension": ".r",
   "mimetype": "text/x-r-source",
   "name": "R",
   "pygments_lexer": "r",
   "version": "4.3.3"
  }
 },
 "nbformat": 4,
 "nbformat_minor": 5
}
